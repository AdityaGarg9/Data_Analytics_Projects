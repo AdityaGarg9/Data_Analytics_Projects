{
 "cells": [
  {
   "cell_type": "code",
   "execution_count": 11,
   "id": "decfb0bd-0dc5-4af1-bcee-7ede7ba31c49",
   "metadata": {},
   "outputs": [],
   "source": [
    "import random\n",
    "from collections import Counter"
   ]
  },
  {
   "cell_type": "code",
   "execution_count": 12,
   "id": "f36669f5-37b0-4ea6-ac95-200278e5af42",
   "metadata": {},
   "outputs": [],
   "source": [
    "# Game Setup - Probabilities, etc.\n",
    "\n",
    "# Using a dictionary to map each value to its probability\n",
    "\n",
    "start_board = {\n",
    "    2: 0.11, 3: 0.20, 8: 0.22, 10: 0.08, 11: 0.10,\n",
    "    12: 0.10, 15: 0.07, 16: 0.10, 20: 0.02\n",
    "}\n",
    "\n",
    "favor_board = {\n",
    "    13: 0.20, 15: 0.08, 16: 0.12, 17: 0.10, 20: 0.25, 25: 0.25\n",
    "}\n",
    "\n",
    "unfavor_board = {\n",
    "    9: 0.15, 10: 0.50, 11: 0.15, 14: 0.07, 16: 0.08, 24: 0.05\n",
    "}\n",
    "\n",
    "entryfee = 5"
   ]
  },
  {
   "cell_type": "code",
   "execution_count": 13,
   "id": "63e17f62-e316-486a-be30-7af3b5a656cc",
   "metadata": {},
   "outputs": [],
   "source": [
    "def shotpicker(dartboard):\n",
    "    score = list(dartboard.keys())\n",
    "    chance = list(dartboard.values())\n",
    "    shot = random.choices(score, weights = chance, k = 1)[0]\n",
    "    return shot\n",
    "\n",
    "# This function essentially takes in any of the 3 dartboards and uses the numbers and probabilities on those dartboards\n",
    "# to output a random value based on the weights/probabilities for each area. This function simulates a person throwing \n",
    "# a dart at *one* of the boards."
   ]
  },
  {
   "cell_type": "code",
   "execution_count": 14,
   "id": "242bec3a-8a4e-46d3-bedc-cad3ee20d165",
   "metadata": {},
   "outputs": [],
   "source": [
    "def payout_calc(throw_sum):\n",
    "    if throw_sum <= 15:\n",
    "        return 0\n",
    "    elif throw_sum <= 34:\n",
    "        return 3\n",
    "    else:\n",
    "        return 7\n",
    "\n",
    "# This function takes in the sum of the player's two throws and uses that to calculate the money they earn."
   ]
  },
  {
   "cell_type": "code",
   "execution_count": 15,
   "id": "5f60611e-c67a-429b-9186-dfff4a5d5d6a",
   "metadata": {},
   "outputs": [],
   "source": [
    "def play_one_round():\n",
    "    shot_one = shotpicker(start_board)\n",
    "    if shot_one >= 15:\n",
    "        shot_two = shotpicker(favor_board)\n",
    "    else:\n",
    "        shot_two = shotpicker(unfavor_board)\n",
    "    throw_sum = shot_one + shot_two\n",
    "    return payout_calc(throw_sum)\n",
    "\n",
    "# This function simulates the full playing of one round by simulating both throws and returning the deserved payout."
   ]
  },
  {
   "cell_type": "code",
   "execution_count": 31,
   "id": "9574d5a2-a2af-4cc7-8482-69a001b1bdaf",
   "metadata": {},
   "outputs": [],
   "source": [
    "def main(): # Function for actually running the whole thing\n",
    "\n",
    "    random.seed(36) # Random seeds allow for reproductibility when testing\n",
    "    times_run = int(input(\"How many rounds would you like to play?\"))\n",
    "    all_outcomes = [] # Creating an empty list to store all the outcomes\n",
    "    total_payout = 0\n",
    "\n",
    "    for i in range(times_run):\n",
    "        single_payout = play_one_round()\n",
    "        all_outcomes.append(single_payout)\n",
    "        total_payout += single_payout\n",
    "        \n",
    "    avg_payout = total_payout/times_run\n",
    "    avg_net_payout = avg_payout-entryfee\n",
    "\n",
    "    counts = Counter(all_outcomes)\n",
    "    probabilities = {x: counts.get(x, 0) / times_run for x in [0, 3, 7]} # These two lines count the amounts of 0's, 3's, and 7's and calculate the\n",
    "    # probability of each occurring\n",
    "\n",
    "    print(f\"Average prize: ${avg_payout:.2f}\")\n",
    "    print(f\"Average net (after ${entryfee} fee): ${avg_net_payout:.2f}\")\n",
    "    print(\"\\nPrize distribution:\")\n",
    "    for prize in [0, 3, 7]:\n",
    "        print(f\"P(${prize}) ≈ {probabilities[prize]}\")\n",
    "\n",
    "    print(\"\\nExact counts of each prize:\")\n",
    "    print(f\"  Number of $0 prizes: {counts.get(0, 0)}\")\n",
    "    print(f\"  Number of $3 prizes: {counts.get(3, 0)}\")\n",
    "    print(f\"  Number of $7 prizes: {counts.get(7, 0)}\")\n",
    "    print(\"\\n\")\n",
    "    print(all_outcomes)\n",
    "\n",
    "    # Printing and formatting results"
   ]
  },
  {
   "cell_type": "code",
   "execution_count": 34,
   "id": "509a5469-6e46-4296-9ecd-d907ebf7d2ea",
   "metadata": {},
   "outputs": [
    {
     "name": "stdin",
     "output_type": "stream",
     "text": [
      "How many rounds would you like to play? 1000\n"
     ]
    },
    {
     "name": "stdout",
     "output_type": "stream",
     "text": [
      "Average prize: $2.78\n",
      "Average net (after $5 fee): $-2.22\n",
      "\n",
      "Prize distribution:\n",
      "P($0) ≈ 0.246\n",
      "P($3) ≈ 0.625\n",
      "P($7) ≈ 0.129\n",
      "\n",
      "Exact counts of each prize:\n",
      "  Number of $0 prizes: 246\n",
      "  Number of $3 prizes: 625\n",
      "  Number of $7 prizes: 129\n",
      "\n",
      "\n",
      "[3, 7, 3, 0, 0, 3, 3, 7, 3, 3, 0, 3, 0, 3, 0, 3, 3, 3, 0, 7, 7, 0, 3, 3, 0, 0, 0, 7, 3, 0, 3, 3, 3, 0, 3, 3, 0, 0, 3, 0, 0, 0, 3, 3, 3, 3, 0, 0, 3, 3, 3, 3, 3, 3, 3, 0, 3, 3, 7, 0, 3, 3, 3, 3, 3, 3, 3, 3, 3, 7, 3, 0, 3, 3, 3, 3, 7, 3, 3, 7, 3, 7, 3, 3, 3, 0, 3, 3, 3, 7, 0, 3, 0, 3, 3, 3, 3, 3, 0, 3, 3, 7, 3, 3, 3, 0, 0, 3, 3, 3, 0, 3, 3, 0, 0, 3, 0, 3, 0, 3, 3, 3, 3, 3, 0, 0, 3, 7, 3, 3, 3, 0, 0, 3, 3, 3, 3, 3, 3, 3, 3, 3, 0, 3, 0, 0, 3, 3, 3, 7, 3, 7, 3, 3, 7, 0, 7, 0, 3, 0, 0, 7, 3, 3, 3, 3, 3, 3, 3, 3, 3, 3, 0, 7, 3, 3, 3, 3, 3, 3, 3, 3, 0, 3, 3, 3, 3, 3, 3, 3, 3, 7, 3, 3, 3, 0, 3, 3, 3, 3, 0, 3, 0, 7, 3, 3, 7, 0, 7, 3, 7, 0, 3, 3, 3, 0, 7, 3, 3, 7, 0, 3, 0, 0, 3, 3, 3, 3, 3, 3, 3, 3, 3, 3, 7, 3, 3, 0, 3, 3, 0, 3, 3, 3, 0, 3, 3, 3, 3, 3, 3, 3, 3, 3, 3, 0, 3, 0, 7, 3, 7, 3, 3, 7, 0, 0, 3, 3, 7, 7, 0, 3, 3, 3, 7, 3, 0, 0, 7, 7, 0, 3, 3, 3, 3, 3, 3, 3, 0, 3, 3, 3, 3, 3, 3, 3, 7, 3, 3, 3, 3, 7, 0, 3, 0, 0, 7, 7, 0, 3, 3, 3, 0, 0, 3, 3, 7, 7, 3, 3, 3, 7, 0, 3, 3, 3, 0, 0, 7, 0, 0, 0, 3, 3, 3, 3, 3, 3, 3, 3, 0, 3, 3, 7, 7, 3, 7, 0, 3, 0, 0, 3, 7, 3, 0, 0, 0, 3, 3, 0, 3, 3, 3, 3, 0, 0, 3, 3, 3, 3, 0, 3, 3, 3, 3, 0, 0, 0, 7, 3, 3, 7, 3, 3, 7, 3, 0, 0, 3, 0, 0, 3, 0, 3, 7, 3, 3, 7, 3, 3, 3, 3, 3, 3, 7, 0, 0, 0, 0, 3, 3, 3, 3, 3, 3, 7, 7, 3, 0, 7, 3, 3, 7, 3, 7, 3, 0, 3, 3, 3, 3, 3, 7, 3, 3, 3, 3, 3, 3, 3, 3, 3, 3, 3, 0, 3, 7, 0, 3, 0, 3, 0, 3, 0, 3, 3, 0, 7, 7, 7, 0, 3, 7, 3, 3, 3, 3, 3, 3, 3, 0, 0, 0, 3, 3, 3, 7, 3, 0, 3, 3, 3, 3, 3, 3, 3, 3, 0, 3, 0, 3, 3, 3, 3, 3, 3, 3, 3, 3, 0, 3, 0, 0, 7, 0, 3, 0, 3, 0, 3, 3, 3, 0, 3, 3, 3, 3, 7, 7, 7, 0, 3, 7, 3, 0, 3, 0, 3, 0, 3, 3, 0, 3, 7, 3, 3, 7, 3, 3, 0, 3, 3, 0, 0, 7, 7, 3, 3, 3, 7, 0, 0, 0, 3, 0, 0, 0, 3, 3, 3, 3, 3, 3, 3, 3, 0, 3, 3, 3, 0, 3, 0, 3, 3, 3, 7, 3, 7, 0, 3, 7, 3, 3, 7, 3, 3, 3, 3, 7, 3, 3, 3, 0, 0, 3, 3, 3, 7, 3, 3, 0, 3, 3, 3, 3, 7, 3, 3, 3, 3, 0, 3, 0, 0, 3, 3, 3, 0, 3, 0, 3, 7, 7, 0, 3, 3, 3, 3, 3, 3, 3, 3, 7, 3, 7, 3, 3, 3, 3, 3, 0, 7, 0, 3, 0, 3, 3, 3, 3, 3, 3, 3, 3, 0, 3, 3, 0, 7, 7, 0, 3, 3, 7, 0, 3, 3, 0, 3, 3, 3, 3, 3, 0, 3, 0, 0, 3, 7, 3, 3, 7, 3, 0, 3, 3, 3, 3, 3, 3, 0, 0, 3, 3, 3, 3, 3, 3, 0, 7, 7, 0, 3, 0, 3, 0, 0, 0, 3, 7, 0, 3, 3, 0, 0, 3, 7, 3, 7, 0, 3, 3, 3, 3, 3, 3, 3, 0, 3, 3, 3, 0, 3, 0, 3, 3, 3, 3, 3, 3, 3, 3, 3, 3, 3, 0, 3, 3, 3, 3, 0, 3, 3, 3, 3, 3, 3, 3, 7, 3, 7, 3, 3, 0, 0, 3, 7, 3, 0, 3, 3, 3, 7, 0, 7, 3, 0, 3, 3, 3, 3, 3, 3, 0, 3, 0, 3, 0, 3, 3, 0, 3, 3, 7, 3, 3, 0, 0, 3, 3, 3, 0, 3, 0, 3, 3, 3, 3, 3, 7, 0, 0, 7, 3, 0, 7, 7, 3, 3, 3, 3, 3, 3, 3, 3, 7, 0, 3, 0, 3, 0, 0, 3, 3, 7, 3, 0, 0, 3, 3, 3, 0, 0, 7, 3, 3, 3, 3, 3, 7, 7, 3, 7, 3, 7, 7, 3, 3, 0, 3, 3, 3, 0, 3, 3, 3, 0, 0, 3, 3, 0, 3, 3, 0, 7, 3, 0, 3, 3, 3, 3, 7, 7, 0, 3, 3, 0, 3, 3, 0, 0, 0, 7, 3, 0, 3, 3, 0, 3, 3, 0, 0, 3, 3, 3, 3, 3, 3, 0, 3, 3, 3, 3, 3, 3, 0, 0, 7, 0, 3, 0, 0, 3, 0, 3, 0, 3, 3, 3, 0, 0, 3, 3, 3, 7, 3, 3, 3, 3, 3, 3, 0, 0, 3, 3, 7, 0, 3, 7, 3, 3, 3, 3, 3, 0, 3, 3, 7, 3, 3, 3, 3, 3, 0, 3, 0, 3, 7, 0, 3, 3, 3, 0, 3, 3, 3, 3, 7, 0, 0, 0, 3, 3, 7, 3, 3, 3, 3, 0, 3, 3, 0, 0, 0, 3, 3, 0, 7, 3, 3, 7]\n"
     ]
    }
   ],
   "source": [
    "if __name__ == \"__main__\":\n",
    "    main() # Final Execution"
   ]
  },
  {
   "cell_type": "code",
   "execution_count": null,
   "id": "b36df8e7-aa2d-4efa-b22b-4a445860164e",
   "metadata": {},
   "outputs": [],
   "source": []
  }
 ],
 "metadata": {
  "kernelspec": {
   "display_name": "Python 3 (ipykernel)",
   "language": "python",
   "name": "python3"
  },
  "language_info": {
   "codemirror_mode": {
    "name": "ipython",
    "version": 3
   },
   "file_extension": ".py",
   "mimetype": "text/x-python",
   "name": "python",
   "nbconvert_exporter": "python",
   "pygments_lexer": "ipython3",
   "version": "3.12.7"
  }
 },
 "nbformat": 4,
 "nbformat_minor": 5
}
