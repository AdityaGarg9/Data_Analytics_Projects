{
 "cells": [
  {
   "cell_type": "code",
   "execution_count": 6,
   "id": "eb148c34-0bcc-4fb6-9a08-ee9069375362",
   "metadata": {},
   "outputs": [
    {
     "data": {
      "image/png": "[encoded data removed]",
      "text/plain": [
       "<Figure size 800x250 with 1 Axes>"
      ]
     },
     "metadata": {},
     "output_type": "display_data"
    }
   ],
   "source": [
    "import pandas as pd\n",
    "import numpy as np\n",
    "import matplotlib.pyplot as plt\n",
    "import seaborn as sns\n",
    "\n",
    "# --- config ---\n",
    "df = pd.read_csv(\"/Users/adityagarg/Downloads/AdityaGarg_Unit One Project Data - CA_Data.csv\")     # change to your CSV path\n",
    "point_size = 40\n",
    "stack_spacing = 0.08           # vertical spacing between stacked outlier dots\n",
    "dot_color = \"crimson\"\n",
    "alpha = 0.85\n",
    "\n",
    "# --- load & prep ---\n",
    "s = pd.to_numeric(df.iloc[:, 0], errors=\"coerce\").dropna().values\n",
    "\n",
    "# --- fences (1.5*IQR rule) ---\n",
    "Q1 = np.percentile(s, 25)\n",
    "Q3 = np.percentile(s, 75)\n",
    "IQR = Q3 - Q1\n",
    "lower_fence = Q1 - 1.5 * IQR\n",
    "upper_fence = Q3 + 1.5 * IQR\n",
    "\n",
    "# --- identify outliers ---\n",
    "outliers = s[(s < lower_fence) | (s > upper_fence)]\n",
    "\n",
    "# --- plot: horizontal boxplot without fliers ---\n",
    "plt.figure(figsize=(8, 2.5))\n",
    "ax = sns.boxplot(x=s, showfliers=False)\n",
    "ax.set_title(\"Boxplot\")\n",
    "ax.set_xlabel(df.columns[0])\n",
    "\n",
    "# --- overlay ONLY the outliers, stacked vertically at each x value ---\n",
    "if outliers.size > 0:\n",
    "    # group duplicates so identical values stack\n",
    "    unique_vals, counts = np.unique(np.round(outliers, 12), return_counts=True)  # rounding guards FP noise\n",
    "    for xv, c in zip(unique_vals, counts):\n",
    "        # center the stack around y=0 (the box's category line)\n",
    "        # positions like [-2, -1, 0, 1, 2] * spacing for c=5\n",
    "        offsets = (np.arange(c) - (c - 1) / 2.0) * stack_spacing\n",
    "        ys = np.zeros(c) + offsets  # base y=0 for the single category\n",
    "        xs = np.full(c, xv)\n",
    "        ax.scatter(xs, ys, s=point_size, color=dot_color, alpha=alpha, zorder=3, edgecolors=\"white\", linewidths=0.6)\n",
    "\n",
    "# make sure the stacked dots are visible\n",
    "ax.set_ylim(-0.5, 0.5)  # widen vertical padding around the single category\n",
    "plt.tight_layout()\n",
    "plt.show()"
   ]
  },
  {
   "cell_type": "code",
   "execution_count": 7,
   "id": "2e6719c9-767f-4489-a474-ddaf3f12f3d0",
   "metadata": {},
   "outputs": [
    {
     "data": {
      "image/png": "[encoded data removed]",
      "text/plain": [
       "<Figure size 800x250 with 1 Axes>"
      ]
     },
     "metadata": {},
     "output_type": "display_data"
    }
   ],
   "source": [
    "import pandas as pd\n",
    "import numpy as np\n",
    "import matplotlib.pyplot as plt\n",
    "import seaborn as sns\n",
    "\n",
    "# --- config ---\n",
    "df = pd.read_csv(\"/Users/adityagarg/Downloads/AdityaGarg_Unit One Project Data - NY_Data.csv\")     # change to your CSV path\n",
    "point_size = 40\n",
    "stack_spacing = 0.08           # vertical spacing between stacked outlier dots\n",
    "dot_color = \"crimson\"\n",
    "alpha = 0.85\n",
    "\n",
    "# --- load & prep ---\n",
    "s = pd.to_numeric(df.iloc[:, 0], errors=\"coerce\").dropna().values\n",
    "\n",
    "# --- fences (1.5*IQR rule) ---\n",
    "Q1 = np.percentile(s, 25)\n",
    "Q3 = np.percentile(s, 75)\n",
    "IQR = Q3 - Q1\n",
    "lower_fence = Q1 - 1.5 * IQR\n",
    "upper_fence = Q3 + 1.5 * IQR\n",
    "\n",
    "# --- identify outliers ---\n",
    "outliers = s[(s < lower_fence) | (s > upper_fence)]\n",
    "\n",
    "# --- plot: horizontal boxplot without fliers ---\n",
    "plt.figure(figsize=(8, 2.5))\n",
    "ax = sns.boxplot(x=s, showfliers=False)\n",
    "ax.set_title(\"Boxplot\")\n",
    "ax.set_xlabel(df.columns[0])\n",
    "\n",
    "# --- overlay ONLY the outliers, stacked vertically at each x value ---\n",
    "if outliers.size > 0:\n",
    "    # group duplicates so identical values stack\n",
    "    unique_vals, counts = np.unique(np.round(outliers, 12), return_counts=True)  # rounding guards FP noise\n",
    "    for xv, c in zip(unique_vals, counts):\n",
    "        # center the stack around y=0 (the box's category line)\n",
    "        # positions like [-2, -1, 0, 1, 2] * spacing for c=5\n",
    "        offsets = (np.arange(c) - (c - 1) / 2.0) * stack_spacing\n",
    "        ys = np.zeros(c) + offsets  # base y=0 for the single category\n",
    "        xs = np.full(c, xv)\n",
    "        ax.scatter(xs, ys, s=point_size, color=dot_color, alpha=alpha, zorder=3, edgecolors=\"white\", linewidths=0.6)\n",
    "\n",
    "# make sure the stacked dots are visible\n",
    "ax.set_ylim(-0.5, 0.5)  # widen vertical padding around the single category\n",
    "plt.tight_layout()\n",
    "plt.show()"
   ]
  },
  {
   "cell_type": "code",
   "execution_count": null,
   "id": "8e66a9a7-7793-43c8-a8b6-e95ea14e186c",
   "metadata": {},
   "outputs": [],
   "source": []
  }
 ],
 "metadata": {
  "kernelspec": {
   "display_name": "Python 3 (ipykernel)",
   "language": "python",
   "name": "python3"
  },
  "language_info": {
   "codemirror_mode": {
    "name": "ipython",
    "version": 3
   },
   "file_extension": ".py",
   "mimetype": "text/x-python",
   "name": "python",
   "nbconvert_exporter": "python",
   "pygments_lexer": "ipython3",
   "version": "3.12.7"
  }
 },
 "nbformat": 4,
 "nbformat_minor": 5
}
